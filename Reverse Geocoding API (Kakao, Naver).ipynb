{
 "cells": [
  {
   "cell_type": "markdown",
   "metadata": {},
   "source": [
    "# request 모듈 설치"
   ]
  },
  {
   "cell_type": "markdown",
   "metadata": {},
   "source": [
    "### https://gosmcom.tistory.com/130"
   ]
  },
  {
   "cell_type": "code",
   "execution_count": 1,
   "metadata": {},
   "outputs": [
    {
     "name": "stdout",
     "output_type": "stream",
     "text": [
      "Requirement already satisfied: requests in c:\\users\\menth\\.conda\\envs\\bus\\lib\\site-packages (2.22.0)\n",
      "Requirement already satisfied: certifi>=2017.4.17 in c:\\users\\menth\\.conda\\envs\\bus\\lib\\site-packages (from requests) (2019.9.11)\n",
      "Requirement already satisfied: chardet<3.1.0,>=3.0.2 in c:\\users\\menth\\.conda\\envs\\bus\\lib\\site-packages (from requests) (3.0.4)\n",
      "Requirement already satisfied: urllib3!=1.25.0,!=1.25.1,<1.26,>=1.21.1 in c:\\users\\menth\\.conda\\envs\\bus\\lib\\site-packages (from requests) (1.25.7)\n",
      "Requirement already satisfied: idna<2.9,>=2.5 in c:\\users\\menth\\.conda\\envs\\bus\\lib\\site-packages (from requests) (2.8)\n",
      "Note: you may need to restart the kernel to use updated packages.\n"
     ]
    }
   ],
   "source": [
    "pip install requests"
   ]
  },
  {
   "cell_type": "code",
   "execution_count": 2,
   "metadata": {},
   "outputs": [],
   "source": [
    "import requests\n",
    "import json\n",
    "import pandas as pd"
   ]
  },
  {
   "cell_type": "markdown",
   "metadata": {},
   "source": [
    "# 1. 카카오 api 테스트"
   ]
  },
  {
   "cell_type": "code",
   "execution_count": 3,
   "metadata": {},
   "outputs": [],
   "source": [
    "url = \"https://dapi.kakao.com/v2/local/geo/coord2regioncode.json?x=127.1086228&y=37.4012191\"\n",
    "headers = {\"Authorization\": \"KakaoAK XXXXXXX\"}"
   ]
  },
  {
   "cell_type": "code",
   "execution_count": 4,
   "metadata": {},
   "outputs": [],
   "source": [
    "api_test = requests.get(url,headers=headers)"
   ]
  },
  {
   "cell_type": "code",
   "execution_count": 5,
   "metadata": {},
   "outputs": [],
   "source": [
    "url_text = json.loads(api_test.text)"
   ]
  },
  {
   "cell_type": "code",
   "execution_count": 6,
   "metadata": {},
   "outputs": [
    {
     "data": {
      "text/plain": [
       "{'meta': {'total_count': 2},\n",
       " 'documents': [{'region_type': 'B',\n",
       "   'code': '4113510900',\n",
       "   'address_name': '경기도 성남시 분당구 삼평동',\n",
       "   'region_1depth_name': '경기도',\n",
       "   'region_2depth_name': '성남시 분당구',\n",
       "   'region_3depth_name': '삼평동',\n",
       "   'region_4depth_name': '',\n",
       "   'x': 127.1163593869371,\n",
       "   'y': 37.40612091848614},\n",
       "  {'region_type': 'H',\n",
       "   'code': '4113565500',\n",
       "   'address_name': '경기도 성남시 분당구 삼평동',\n",
       "   'region_1depth_name': '경기도',\n",
       "   'region_2depth_name': '성남시 분당구',\n",
       "   'region_3depth_name': '삼평동',\n",
       "   'region_4depth_name': '',\n",
       "   'x': 127.1163593869371,\n",
       "   'y': 37.40612091848614}]}"
      ]
     },
     "execution_count": 6,
     "metadata": {},
     "output_type": "execute_result"
    }
   ],
   "source": [
    "url_text"
   ]
  },
  {
   "cell_type": "markdown",
   "metadata": {},
   "source": [
    "+ Parsing 테스트"
   ]
  },
  {
   "cell_type": "code",
   "execution_count": 8,
   "metadata": {},
   "outputs": [
    {
     "data": {
      "text/plain": [
       "'경기도 성남시 분당구 삼평동'"
      ]
     },
     "execution_count": 8,
     "metadata": {},
     "output_type": "execute_result"
    }
   ],
   "source": [
    "url_text['documents'][0]['address_name']"
   ]
  },
  {
   "cell_type": "markdown",
   "metadata": {},
   "source": [
    "# 2. 네이버 api 테스트"
   ]
  },
  {
   "cell_type": "code",
   "execution_count": 9,
   "metadata": {},
   "outputs": [],
   "source": [
    "naver_url = \"https://naveropenapi.apigw.ntruss.com/map-reversegeocode/v2/gc\"\n",
    "gc_url = \"?request=coordsToaddr&coords=127.116359386937,37.40612091848614&sourcecrs=epsg:4326&orders=admcode,legalcode,addr,roadaddr&output=json\"\n",
    "sum_url = naver_url+gc_url\n",
    "naver_headers = {\"X-NCP-APIGW-API-KEY-ID\": \"ID\", \"X-NCP-APIGW-API-KEY\": \"KEY\"}"
   ]
  },
  {
   "cell_type": "code",
   "execution_count": 10,
   "metadata": {},
   "outputs": [],
   "source": [
    "naver_api_test = requests.get(sum_url,headers=naver_headers)"
   ]
  },
  {
   "cell_type": "code",
   "execution_count": 11,
   "metadata": {},
   "outputs": [],
   "source": [
    "naver_url_text = json.loads(naver_api_test.text)"
   ]
  },
  {
   "cell_type": "code",
   "execution_count": 58,
   "metadata": {},
   "outputs": [
    {
     "data": {
      "text/plain": [
       "{'status': {'code': 0, 'name': 'ok', 'message': 'done'},\n",
       " 'results': [{'name': 'admcode',\n",
       "   'code': {'id': '4113565500', 'type': 'S', 'mappingId': '02135109'},\n",
       "   'region': {'area0': {'name': 'kr',\n",
       "     'coords': {'center': {'crs': '', 'x': 0.0, 'y': 0.0}}},\n",
       "    'area1': {'name': '경기도',\n",
       "     'coords': {'center': {'crs': 'EPSG:4326',\n",
       "       'x': 127.008689,\n",
       "       'y': 37.274938}},\n",
       "     'alias': '경기'},\n",
       "    'area2': {'name': '성남시 분당구',\n",
       "     'coords': {'center': {'crs': 'EPSG:4326',\n",
       "       'x': 127.118925,\n",
       "       'y': 37.38282}}},\n",
       "    'area3': {'name': '삼평동',\n",
       "     'coords': {'center': {'crs': 'EPSG:4326',\n",
       "       'x': 127.1163916,\n",
       "       'y': 37.4060784}}},\n",
       "    'area4': {'name': '',\n",
       "     'coords': {'center': {'crs': '', 'x': 0.0, 'y': 0.0}}}}},\n",
       "  {'name': 'legalcode',\n",
       "   'code': {'id': '4113510900', 'type': 'L', 'mappingId': '02135109'},\n",
       "   'region': {'area0': {'name': 'kr',\n",
       "     'coords': {'center': {'crs': '', 'x': 0.0, 'y': 0.0}}},\n",
       "    'area1': {'name': '경기도',\n",
       "     'coords': {'center': {'crs': 'EPSG:4326',\n",
       "       'x': 127.008689,\n",
       "       'y': 37.274938}},\n",
       "     'alias': '경기'},\n",
       "    'area2': {'name': '성남시 분당구',\n",
       "     'coords': {'center': {'crs': 'EPSG:4326',\n",
       "       'x': 127.118925,\n",
       "       'y': 37.38282}}},\n",
       "    'area3': {'name': '삼평동',\n",
       "     'coords': {'center': {'crs': 'EPSG:4326',\n",
       "       'x': 127.116392,\n",
       "       'y': 37.406078}}},\n",
       "    'area4': {'name': '',\n",
       "     'coords': {'center': {'crs': '', 'x': 0.0, 'y': 0.0}}}}},\n",
       "  {'name': 'addr',\n",
       "   'code': {'id': '4113510900', 'type': 'L', 'mappingId': '02135109'},\n",
       "   'region': {'area0': {'name': 'kr',\n",
       "     'coords': {'center': {'crs': '', 'x': 0.0, 'y': 0.0}}},\n",
       "    'area1': {'name': '경기도',\n",
       "     'coords': {'center': {'crs': 'EPSG:4326',\n",
       "       'x': 127.008689,\n",
       "       'y': 37.274938}},\n",
       "     'alias': '경기'},\n",
       "    'area2': {'name': '성남시 분당구',\n",
       "     'coords': {'center': {'crs': 'EPSG:4326',\n",
       "       'x': 127.118925,\n",
       "       'y': 37.38282}}},\n",
       "    'area3': {'name': '삼평동',\n",
       "     'coords': {'center': {'crs': 'EPSG:4326',\n",
       "       'x': 127.116392,\n",
       "       'y': 37.406078}}},\n",
       "    'area4': {'name': '',\n",
       "     'coords': {'center': {'crs': '', 'x': 0.0, 'y': 0.0}}}},\n",
       "   'land': {'type': '1',\n",
       "    'number1': '712',\n",
       "    'number2': '',\n",
       "    'addition0': {'type': '', 'value': ''},\n",
       "    'addition1': {'type': '', 'value': ''},\n",
       "    'addition2': {'type': '', 'value': ''},\n",
       "    'addition3': {'type': '', 'value': ''},\n",
       "    'addition4': {'type': '', 'value': ''},\n",
       "    'coords': {'center': {'crs': '', 'x': 0.0, 'y': 0.0}}}},\n",
       "  {'name': 'roadaddr',\n",
       "   'code': {'id': '4113510900', 'type': 'L', 'mappingId': '02135109'},\n",
       "   'region': {'area0': {'name': 'kr',\n",
       "     'coords': {'center': {'crs': '', 'x': 0.0, 'y': 0.0}}},\n",
       "    'area1': {'name': '경기도',\n",
       "     'coords': {'center': {'crs': 'EPSG:4326',\n",
       "       'x': 127.008689,\n",
       "       'y': 37.274938}},\n",
       "     'alias': '경기'},\n",
       "    'area2': {'name': '성남시 분당구',\n",
       "     'coords': {'center': {'crs': 'EPSG:4326',\n",
       "       'x': 127.118925,\n",
       "       'y': 37.38282}}},\n",
       "    'area3': {'name': '삼평동',\n",
       "     'coords': {'center': {'crs': 'EPSG:4326',\n",
       "       'x': 127.116392,\n",
       "       'y': 37.406078}}},\n",
       "    'area4': {'name': '',\n",
       "     'coords': {'center': {'crs': '', 'x': 0.0, 'y': 0.0}}}},\n",
       "   'land': {'type': '',\n",
       "    'number1': '7',\n",
       "    'number2': '',\n",
       "    'addition0': {'type': 'building', 'value': '삼평동 행정복지센터'},\n",
       "    'addition1': {'type': 'zipcode', 'value': '13490'},\n",
       "    'addition2': {'type': 'roadGroupCode', 'value': '411354334616'},\n",
       "    'addition3': {'type': '', 'value': ''},\n",
       "    'addition4': {'type': '', 'value': ''},\n",
       "    'name': '동판교로266번길',\n",
       "    'coords': {'center': {'crs': '', 'x': 0.0, 'y': 0.0}}}}]}"
      ]
     },
     "execution_count": 58,
     "metadata": {},
     "output_type": "execute_result"
    }
   ],
   "source": [
    "naver_url_text"
   ]
  },
  {
   "cell_type": "markdown",
   "metadata": {},
   "source": [
    "+ Parsing 테스트"
   ]
  },
  {
   "cell_type": "code",
   "execution_count": 12,
   "metadata": {},
   "outputs": [
    {
     "data": {
      "text/plain": [
       "{'name': 'admcode',\n",
       " 'code': {'id': '4113565500', 'type': 'S', 'mappingId': '02135109'},\n",
       " 'region': {'area0': {'name': 'kr',\n",
       "   'coords': {'center': {'crs': '', 'x': 0.0, 'y': 0.0}}},\n",
       "  'area1': {'name': '경기도',\n",
       "   'coords': {'center': {'crs': 'EPSG:4326', 'x': 127.008689, 'y': 37.274938}},\n",
       "   'alias': '경기'},\n",
       "  'area2': {'name': '성남시 분당구',\n",
       "   'coords': {'center': {'crs': 'EPSG:4326', 'x': 127.118925, 'y': 37.38282}}},\n",
       "  'area3': {'name': '삼평동',\n",
       "   'coords': {'center': {'crs': 'EPSG:4326',\n",
       "     'x': 127.1163916,\n",
       "     'y': 37.4060784}}},\n",
       "  'area4': {'name': '',\n",
       "   'coords': {'center': {'crs': '', 'x': 0.0, 'y': 0.0}}}}}"
      ]
     },
     "execution_count": 12,
     "metadata": {},
     "output_type": "execute_result"
    }
   ],
   "source": [
    "naver_url_text['results'][0]"
   ]
  },
  {
   "cell_type": "markdown",
   "metadata": {},
   "source": [
    "# 참고자료"
   ]
  },
  {
   "cell_type": "markdown",
   "metadata": {},
   "source": [
    "https://oboki.net/workspace/programming/language/python/kakao-api-%EC%9D%B4%EC%9A%A9%ED%95%9C-%EC%A3%BC%EC%86%8C-%EC%A2%8C%ED%91%9C-%EB%B3%80%ED%99%98%ED%95%98%EA%B8%B0/"
   ]
  },
  {
   "cell_type": "code",
   "execution_count": 67,
   "metadata": {},
   "outputs": [],
   "source": [
    "# http://www.databaser.net/moniwiki/wiki.php/JSON%ED%8C%8C%EC%8B%B1%ED%95%98%EA%B8%B0\n",
    "# https://developers.kakao.com/docs/restapi/local\n",
    "# https://oboki.net/workspace/programming/language/python/ipstack-api-ip-%ec%9c%84%ec%b9%98-%ec%a0%95%eb%b3%b4-%ec%a1%b0%ed%9a%8c/\n",
    "# https://rfriend.tistory.com/474"
   ]
  },
  {
   "cell_type": "markdown",
   "metadata": {},
   "source": [
    "#### json 파싱하기 \n",
    "http://www.databaser.net/moniwiki/wiki.php/JSON%ED%8C%8C%EC%8B%B1%ED%95%98%EA%B8%B0"
   ]
  }
 ],
 "metadata": {
  "kernelspec": {
   "display_name": "Python 3",
   "language": "python",
   "name": "python3"
  },
  "language_info": {
   "codemirror_mode": {
    "name": "ipython",
    "version": 3
   },
   "file_extension": ".py",
   "mimetype": "text/x-python",
   "name": "python",
   "nbconvert_exporter": "python",
   "pygments_lexer": "ipython3",
   "version": "3.7.5"
  }
 },
 "nbformat": 4,
 "nbformat_minor": 4
}
